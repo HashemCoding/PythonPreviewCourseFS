{
 "cells": [
  {
   "cell_type": "markdown",
   "id": "816a2ee7-e6a6-410b-8503-4422ef250105",
   "metadata": {},
   "source": [
    "# Klassen"
   ]
  },
  {
   "cell_type": "code",
   "execution_count": 7,
   "id": "2398eae4-dbbc-4f5b-a0fb-8d6dbc102cfd",
   "metadata": {},
   "outputs": [],
   "source": [
    "class Auto:\n",
    "    def __init__(self, marke, modell, ps):\n",
    "        self.marke = marke\n",
    "        self.modell = modell\n",
    "        self.ps = ps\n",
    "\n",
    "    def zeige_info(self):\n",
    "        print(f\"Marke: {self.marke}\")\n",
    "        print(f\"Modell: {self.modell}\")\n",
    "        print(f\"PS: {self.ps}\")"
   ]
  },
  {
   "cell_type": "code",
   "execution_count": 8,
   "id": "8400d215-5a63-4759-9e76-d1a183a6696f",
   "metadata": {},
   "outputs": [],
   "source": [
    "mein_auto = Auto(\"BMW\", \"1er\", 170)"
   ]
  },
  {
   "cell_type": "code",
   "execution_count": 9,
   "id": "cf54da39-2614-4056-bca2-9edb8df48bb7",
   "metadata": {},
   "outputs": [
    {
     "name": "stdout",
     "output_type": "stream",
     "text": [
      "Marke: BMW\n",
      "Modell: 1er\n",
      "PS: 170\n"
     ]
    }
   ],
   "source": [
    "mein_auto.zeige_info()"
   ]
  },
  {
   "cell_type": "markdown",
   "id": "3f7ed68d-b9fb-48d2-801c-45475b3b3987",
   "metadata": {},
   "source": [
    "## Vererbung und Polymorphismus"
   ]
  },
  {
   "cell_type": "code",
   "execution_count": 18,
   "id": "01cfac73-dbdb-4243-b35c-fd33b70484bd",
   "metadata": {},
   "outputs": [],
   "source": [
    "class Elektroauto(Auto):\n",
    "    def __init__(self, marke, modell, ps, batteriekapazitaet):\n",
    "        super().__init__(marke, modell, ps)\n",
    "        self.batteriekapazitaet = batteriekapazitaet\n",
    "    \n",
    "    def zeige_info_e(self):\n",
    "        print(f\"Marke: {self.marke}\")\n",
    "        print(f\"Modell: {self.modell}\")\n",
    "        print(f\"PS: {self.ps}\")\n",
    "        print(f\"Batteriekapazitaet: {self.batteriekapazitaet}\")"
   ]
  },
  {
   "cell_type": "code",
   "execution_count": 19,
   "id": "147e27d6-be7f-444f-b176-e81290267c95",
   "metadata": {},
   "outputs": [],
   "source": [
    "mein_eauto= Elektroauto(\"BMW\", \"i5\", 601, 100)"
   ]
  },
  {
   "cell_type": "code",
   "execution_count": 20,
   "id": "858acea4-435b-448b-8da2-972698ac2061",
   "metadata": {},
   "outputs": [
    {
     "name": "stdout",
     "output_type": "stream",
     "text": [
      "Marke: BMW\n",
      "Modell: i5\n",
      "PS: 601\n",
      "Batteriekapazitaet: 100\n"
     ]
    }
   ],
   "source": [
    "mein_eauto.zeige_info_e()"
   ]
  },
  {
   "cell_type": "markdown",
   "id": "9c0bf8ce-d4e2-4e12-aec9-5e0481196625",
   "metadata": {},
   "source": [
    "## Sicherheit"
   ]
  },
  {
   "cell_type": "code",
   "execution_count": null,
   "id": "1edc65d4-1e55-48f0-acdf-b390c0bc9f85",
   "metadata": {},
   "outputs": [],
   "source": [
    "class Auto:\n",
    "    def __init__(self, marke, modell):\n",
    "        self._marke = marke  # Konvention für geschützte Attribute\n",
    "        self._modell = modell\n",
    "\n",
    "    def get_marke(self):\n",
    "        return self._marke\n",
    "\n",
    "    def set_marke(self, neue_marke):\n",
    "        self._marke = neue_marke\n",
    "\n",
    "    def get_modell(self):\n",
    "        return self._modell\n",
    "\n",
    "    def set_modell(self, neues_modell):\n",
    "        self._modell = neues_modell"
   ]
  },
  {
   "cell_type": "markdown",
   "id": "df87825c-b75f-42a3-b220-47ec33475f80",
   "metadata": {},
   "source": [
    "## Klassenmethoden"
   ]
  },
  {
   "cell_type": "code",
   "execution_count": 21,
   "id": "59c1fa85-ef0e-4096-a526-40de50d41308",
   "metadata": {},
   "outputs": [],
   "source": [
    "class Auto:\n",
    "    anzahl_autos = 0\n",
    "\n",
    "    def __init__(self, marke, modell):\n",
    "        self.marke = marke\n",
    "        self.modell = modell\n",
    "        Auto.anzahl_autos += 1\n",
    "\n",
    "    @classmethod\n",
    "    def zeige_anzahl_autos(cls):\n",
    "        print(f\"Anzahl der Autos: {cls.anzahl_autos}\")"
   ]
  },
  {
   "cell_type": "code",
   "execution_count": 23,
   "id": "a3aba4f8-c6b6-4f4d-be88-62a91add5b7e",
   "metadata": {},
   "outputs": [],
   "source": [
    "mein_auto = Auto(\"BMW\", \"1er\")"
   ]
  },
  {
   "cell_type": "code",
   "execution_count": 24,
   "id": "9ce97f13-4a9c-49ce-8c69-64b1339a5ffc",
   "metadata": {},
   "outputs": [
    {
     "name": "stdout",
     "output_type": "stream",
     "text": [
      "Anzahl der Autos: 2\n"
     ]
    }
   ],
   "source": [
    "mein_auto.zeige_anzahl_autos()"
   ]
  },
  {
   "cell_type": "markdown",
   "id": "fbf3e17a-ea2f-4173-ac63-348d599f6f1f",
   "metadata": {},
   "source": [
    "## Magic Methods"
   ]
  },
  {
   "cell_type": "markdown",
   "id": "dab6e7b3-2c5e-42ef-bff6-69e6b121ceeb",
   "metadata": {},
   "source": [
    "https://www.analyticsvidhya.com/blog/2021/08/explore-the-magic-methods-in-python/#:~:text=Magic%20methods%20are%20special%20methods,predominantly%20used%20for%20operator%20overloading."
   ]
  },
  {
   "cell_type": "code",
   "execution_count": null,
   "id": "aca7e793-fbb5-402a-ac14-72c58623f33d",
   "metadata": {},
   "outputs": [],
   "source": [
    "class Str:\n",
    "    def __init__(self, string_):\n",
    "        self.string_ = string_\n",
    "    def __add__(self, string2):\n",
    "        return self.string_ + string2\n",
    "instance1 = Str(\"Hello\")\n",
    "print(instance1 + \" Folks\")\n",
    "# Output: Hello Folks"
   ]
  },
  {
   "cell_type": "code",
   "execution_count": null,
   "id": "18e4d092-9276-4941-96eb-2e62d401b30c",
   "metadata": {},
   "outputs": [],
   "source": [
    "class Comparison:\n",
    "    def __init__(self, a):\n",
    "        self.a = a\n",
    "    def __lt__(self, object2):\n",
    "        return self.a < object2.a\n",
    "    def __gt__(self, object2):\n",
    "        return self.a > object2.a\n",
    "    def __le__(self, object2):\n",
    "        return self.a <= object2.a\n",
    "    def __ge__(self, object2):\n",
    "        return self.a >= object2.a\n",
    "    def __eq__(self, object2):\n",
    "        return self.a == object2.a\n",
    "    def __ne__(self, object2):\n",
    "        return self.a != object2.a\n",
    "a = Comparison(1)\n",
    "b = Comparison(2)\n",
    "print(\n",
    "    a < b,\n",
    "    a > b,\n",
    "    a <= b,\n",
    "    a >= b,\n",
    "    a == b,\n",
    "    a != b\n",
    ")\n",
    "# Output\n",
    "# True False True False False True"
   ]
  },
  {
   "cell_type": "code",
   "execution_count": null,
   "id": "758188b6-f766-4cc6-b94b-06484edb9e0a",
   "metadata": {},
   "outputs": [],
   "source": [
    "class Employee:\n",
    "\n",
    "    raise_amt = 1.04\n",
    "\n",
    "    def __init__(self, first, last, pay):\n",
    "        self.first = first\n",
    "        self.last = last\n",
    "        self.email = first + '.' + last + '@email.com'\n",
    "        self.pay = pay\n",
    "\n",
    "    def fullname(self):\n",
    "        return '{} {}'.format(self.first, self.last)\n",
    "\n",
    "    def apply_raise(self):\n",
    "        self.pay = int(self.pay * self.raise_amt)\n",
    "\n",
    "    def __repr__(self):\n",
    "        return \"Employee('{}', '{}', {})\".format(self.first, self.last, self.pay)\n",
    "\n",
    "    def __str__(self):\n",
    "        return '{} - {}'.format(self.fullname(), self.email)\n",
    "\n",
    "    def __add__(self, other):\n",
    "        return self.pay + other.pay\n",
    "\n",
    "    def __len__(self):\n",
    "        return len(self.fullname())\n",
    "\n",
    "\n",
    "emp_1 = Employee('Corey', 'Schafer', 50000)\n",
    "emp_2 = Employee('Test', 'Employee', 60000)\n",
    "\n",
    "# print(emp_1 + emp_2)\n",
    "\n",
    "print(len(emp_1))"
   ]
  },
  {
   "cell_type": "code",
   "execution_count": 1,
   "id": "2883244b-df5f-420f-9a43-acda7e94db99",
   "metadata": {},
   "outputs": [
    {
     "name": "stdout",
     "output_type": "stream",
     "text": [
      "2\n"
     ]
    }
   ],
   "source": [
    "if any([(),\"\",0]):\n",
    "    print(1)\n",
    "else:\n",
    "    print(2)"
   ]
  },
  {
   "cell_type": "markdown",
   "id": "fdcd4b67-fa22-46e7-8b13-b672b2c5ecc4",
   "metadata": {},
   "source": [
    "## doc strings "
   ]
  },
  {
   "cell_type": "code",
   "execution_count": null,
   "id": "07fa7237-a2e6-4b0c-9e4b-4bd5abe9fff1",
   "metadata": {},
   "outputs": [],
   "source": [
    "def add_binary(a, b):\n",
    "    '''\n",
    "    Returns the sum of two decimal numbers in binary digits.\n",
    "\n",
    "            Parameters:\n",
    "                    a (int): A decimal integer\n",
    "                    b (int): Another decimal integer\n",
    "\n",
    "            Returns:\n",
    "                    binary_sum (str): Binary string of the sum of a and b\n",
    "    '''\n",
    "    binary_sum = bin(a+b)[2:]\n",
    "    return binary_sum\n",
    "\n",
    "\n",
    "print(add_binary.__doc__)"
   ]
  },
  {
   "cell_type": "markdown",
   "id": "04a9d43b-1fbb-4bb8-a070-c25f501b6268",
   "metadata": {},
   "source": [
    "## Properties"
   ]
  },
  {
   "cell_type": "code",
   "execution_count": null,
   "id": "73615313-9c56-4064-9c3c-094394760bfc",
   "metadata": {},
   "outputs": [],
   "source": [
    "class Employee:\n",
    "\n",
    "    def __init__(self, first, last):\n",
    "        self.first = first\n",
    "        self.last = last\n",
    "\n",
    "    @property\n",
    "    def email(self):\n",
    "        return '{}.{}@email.com'.format(self.first, self.last)\n",
    "\n",
    "    @property\n",
    "    def fullname(self):\n",
    "        return '{} {}'.format(self.first, self.last)\n",
    "    \n",
    "    @fullname.setter\n",
    "    def fullname(self, name):\n",
    "        first, last = name.split(' ')\n",
    "        self.first = first\n",
    "        self.last = last\n",
    "    \n",
    "    @fullname.deleter\n",
    "    def fullname(self):\n",
    "        print('Delete Name!')\n",
    "        self.first = None\n",
    "        self.last = None\n",
    "\n",
    "\n",
    "emp_1 = Employee('John', 'Smith')\n",
    "emp_1.fullname = \"Corey Schafer\"\n",
    "\n",
    "print(emp_1.first)\n",
    "print(emp_1.email)\n",
    "print(emp_1.fullname)\n",
    "\n",
    "del emp_1.fullname"
   ]
  }
 ],
 "metadata": {
  "kernelspec": {
   "display_name": "Python 3 (ipykernel)",
   "language": "python",
   "name": "python3"
  },
  "language_info": {
   "codemirror_mode": {
    "name": "ipython",
    "version": 3
   },
   "file_extension": ".py",
   "mimetype": "text/x-python",
   "name": "python",
   "nbconvert_exporter": "python",
   "pygments_lexer": "ipython3",
   "version": "3.11.7"
  }
 },
 "nbformat": 4,
 "nbformat_minor": 5
}
