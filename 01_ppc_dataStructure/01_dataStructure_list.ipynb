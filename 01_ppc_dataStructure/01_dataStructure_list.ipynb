{
 "cells": [
  {
   "cell_type": "markdown",
   "id": "c25f961d-6a40-443f-a00b-13b2ad6940d2",
   "metadata": {
    "jp-MarkdownHeadingCollapsed": true
   },
   "source": [
    "# List"
   ]
  },
  {
   "cell_type": "markdown",
   "id": "f4b06f8d-8b73-4d83-ae67-123b9fd315ca",
   "metadata": {
    "jp-MarkdownHeadingCollapsed": true
   },
   "source": [
    "## List example"
   ]
  },
  {
   "attachments": {
    "76e6fb84-8f5b-4540-b265-8f3ecb6f4fff.png": {
     "image/png": "[encoded data removed]"
    }
   },
   "cell_type": "markdown",
   "id": "38bc4746-4d7a-49a5-aec3-b34d0c1040cd",
   "metadata": {},
   "source": [
    "![image.png](attachment:76e6fb84-8f5b-4540-b265-8f3ecb6f4fff.png)"
   ]
  },
  {
   "cell_type": "markdown",
   "id": "17e785aa-5339-404b-980e-dab30363dd51",
   "metadata": {
    "jp-MarkdownHeadingCollapsed": true
   },
   "source": [
    "## create list"
   ]
  },
  {
   "cell_type": "code",
   "execution_count": 1,
   "id": "5bdf7c0c-ca13-44a2-ade0-604e36c81a35",
   "metadata": {},
   "outputs": [
    {
     "name": "stdout",
     "output_type": "stream",
     "text": [
      "<class 'list'> <class 'list'>\n"
     ]
    }
   ],
   "source": [
    "by_constructor = list()\n",
    "by_shorthand = []\n",
    "print(type(by_constructor), type(by_shorthand))"
   ]
  },
  {
   "cell_type": "code",
   "execution_count": 2,
   "id": "3a62bbcd-e6ae-4f3e-8202-7aca88a111ef",
   "metadata": {},
   "outputs": [
    {
     "name": "stdout",
     "output_type": "stream",
     "text": [
      "[1, 2, 3, 'apple', 'banana']\n"
     ]
    }
   ],
   "source": [
    "my_list = [1, 2, 3, 'apple', 'banana']\n",
    "print(my_list)"
   ]
  },
  {
   "cell_type": "markdown",
   "id": "f461de24-98bf-4fe1-8cb6-4d0e86151914",
   "metadata": {
    "jp-MarkdownHeadingCollapsed": true
   },
   "source": [
    "## elements"
   ]
  },
  {
   "cell_type": "code",
   "execution_count": 3,
   "id": "e907ce2e-dea2-4be3-9828-e2d612aac837",
   "metadata": {},
   "outputs": [
    {
     "name": "stdout",
     "output_type": "stream",
     "text": [
      "1\n"
     ]
    }
   ],
   "source": [
    "# Erste Element in eine Variable speichern \n",
    "first_element = my_list[0]\n",
    "print(first_element)"
   ]
  },
  {
   "cell_type": "code",
   "execution_count": 4,
   "id": "530e8e20-fb93-4fd8-b86a-6dbb1d3ce7d0",
   "metadata": {},
   "outputs": [
    {
     "name": "stdout",
     "output_type": "stream",
     "text": [
      "banana\n"
     ]
    }
   ],
   "source": [
    "# Letzte Element in eine Variable speichern\n",
    "last_element = my_list[-1]\n",
    "print(last_element)"
   ]
  },
  {
   "cell_type": "code",
   "execution_count": 5,
   "id": "152dc02f-a4a4-4c88-97be-b21f35a5c68d",
   "metadata": {},
   "outputs": [
    {
     "name": "stdout",
     "output_type": "stream",
     "text": [
      "[1, 2, 3, 'apple', 'banana', 4]\n"
     ]
    }
   ],
   "source": [
    "# Hinzufügen eines Elements am Ende der Liste\n",
    "my_list.append(4)\n",
    "print(my_list)"
   ]
  },
  {
   "cell_type": "code",
   "execution_count": 6,
   "id": "f84b814e-9645-41ae-aa84-414af421f16e",
   "metadata": {},
   "outputs": [
    {
     "name": "stdout",
     "output_type": "stream",
     "text": [
      "[1, 2, 'orange', 3, 'apple', 'banana', 4]\n"
     ]
    }
   ],
   "source": [
    "# Einfügen eines Elements an einer bestimmten Position\n",
    "my_list.insert(2, 'orange')\n",
    "print(my_list)"
   ]
  },
  {
   "cell_type": "code",
   "execution_count": 7,
   "id": "4131c52f-7c9b-4abf-a0f7-63d0699b9b68",
   "metadata": {},
   "outputs": [
    {
     "name": "stdout",
     "output_type": "stream",
     "text": [
      "[1, 'grape', 'orange', 3, 'apple', 'banana', 4]\n"
     ]
    }
   ],
   "source": [
    "# Aktualisieren eines bestehenden Elements\n",
    "my_list[1] = 'grape'\n",
    "print(my_list)"
   ]
  },
  {
   "cell_type": "code",
   "execution_count": 8,
   "id": "e158ca07-7781-48f5-a800-106aa340bb78",
   "metadata": {},
   "outputs": [
    {
     "name": "stdout",
     "output_type": "stream",
     "text": [
      "[1, 'grape', 'orange', 3, 'apple', 'banana']\n",
      "4\n"
     ]
    }
   ],
   "source": [
    "# Entfernen und Rückgabe des letzten Elements\n",
    "removed_element = my_list.pop()\n",
    "print(my_list)\n",
    "print(removed_element)"
   ]
  },
  {
   "cell_type": "code",
   "execution_count": 9,
   "id": "b1477c6e-d76d-405a-b92b-2442a9b055a7",
   "metadata": {},
   "outputs": [
    {
     "name": "stdout",
     "output_type": "stream",
     "text": [
      "[1, 'grape', 3, 'apple', 'banana']\n",
      "orange\n"
     ]
    }
   ],
   "source": [
    "# Entfernen eines Elements an einer bestimmten Position\n",
    "removed_element = my_list.pop(2)\n",
    "print(my_list)\n",
    "print(removed_element)"
   ]
  },
  {
   "cell_type": "code",
   "execution_count": 10,
   "id": "f5973891-44ee-438b-a8e0-710169e3823a",
   "metadata": {},
   "outputs": [
    {
     "name": "stdout",
     "output_type": "stream",
     "text": [
      "[1, 'grape', 3, 'banana']\n"
     ]
    }
   ],
   "source": [
    "# Entfernen eines bestimmten Werts (nur das erste Vorkommen)\n",
    "my_list.remove('apple')\n",
    "print(my_list)"
   ]
  },
  {
   "cell_type": "markdown",
   "id": "2bfb83ad-c362-40bb-9b00-d5359cfcd397",
   "metadata": {
    "jp-MarkdownHeadingCollapsed": true
   },
   "source": [
    "## Iterration"
   ]
  },
  {
   "cell_type": "code",
   "execution_count": 11,
   "id": "e79a6b2a-6b46-4790-a337-90012085153a",
   "metadata": {},
   "outputs": [
    {
     "name": "stdout",
     "output_type": "stream",
     "text": [
      "1\n",
      "grape\n",
      "3\n",
      "banana\n"
     ]
    }
   ],
   "source": [
    "for item in my_list:\n",
    "    print(item)"
   ]
  },
  {
   "cell_type": "markdown",
   "id": "75f6d9dc-f837-4a10-846b-af612d12df5c",
   "metadata": {
    "jp-MarkdownHeadingCollapsed": true
   },
   "source": [
    "## Slicing & connect"
   ]
  },
  {
   "cell_type": "code",
   "execution_count": 17,
   "id": "42c854e6-ddb3-4058-b362-05eb0b0e00fb",
   "metadata": {},
   "outputs": [
    {
     "name": "stdout",
     "output_type": "stream",
     "text": [
      "[1, 'grape', 3, 'banana']\n"
     ]
    }
   ],
   "source": [
    "# Slicing\n",
    "sliced_list = my_list[0:4]\n",
    "print(sliced_list)"
   ]
  },
  {
   "cell_type": "code",
   "execution_count": 18,
   "id": "2eee5a82-6d22-4bdd-9eba-748aaa29bd8a",
   "metadata": {},
   "outputs": [
    {
     "name": "stdout",
     "output_type": "stream",
     "text": [
      "[1, 'grape', 3, 'banana', 5, 'cherry']\n"
     ]
    }
   ],
   "source": [
    "# Concatenation\n",
    "concatenated_list = my_list + [5, 'cherry']\n",
    "print(concatenated_list)"
   ]
  },
  {
   "cell_type": "markdown",
   "id": "9e74dd81-c32f-4d60-8bbc-d5bf8cd5395b",
   "metadata": {
    "jp-MarkdownHeadingCollapsed": true
   },
   "source": [
    "## nested"
   ]
  },
  {
   "cell_type": "code",
   "execution_count": 20,
   "id": "74261724-bc1c-40ad-894f-7201f40933e4",
   "metadata": {},
   "outputs": [
    {
     "name": "stdout",
     "output_type": "stream",
     "text": [
      "[1, 2, 3]\n"
     ]
    }
   ],
   "source": [
    "nested_list = [[1, 2, 3], ['a', 'b', 'c']]\n",
    "print(nested_list[0])"
   ]
  },
  {
   "cell_type": "markdown",
   "id": "6d709f96-ac49-41ef-99ff-47c86a348bce",
   "metadata": {
    "jp-MarkdownHeadingCollapsed": true
   },
   "source": [
    "## Sort"
   ]
  },
  {
   "cell_type": "code",
   "execution_count": 27,
   "id": "23465c22-8729-41f8-946f-35e0bc41d735",
   "metadata": {},
   "outputs": [
    {
     "name": "stdout",
     "output_type": "stream",
     "text": [
      "[4, 2, 6, 2, 1]\n",
      "[6, 4, 2, 2, 1]\n"
     ]
    }
   ],
   "source": [
    "# Erzeugt eine neue sortierte Liste\n",
    "my_list=[4,2,6,2,1]\n",
    "sorted_list = sorted(my_list, reverse=True)  \n",
    "print(my_list)\n",
    "print(sorted_list)"
   ]
  },
  {
   "cell_type": "code",
   "execution_count": 30,
   "id": "94656b02-157c-4880-b4b5-e3e616578c34",
   "metadata": {},
   "outputs": [
    {
     "name": "stdout",
     "output_type": "stream",
     "text": [
      "[1, 2, 2, 4, 6]\n"
     ]
    }
   ],
   "source": [
    "# Ändert die Liste selbst\n",
    "my_list=[4,2,6,2,1]\n",
    "my_list.sort()\n",
    "print(my_list)"
   ]
  },
  {
   "cell_type": "markdown",
   "id": "02ca4941-bb94-401f-b018-405ad6c00574",
   "metadata": {
    "jp-MarkdownHeadingCollapsed": true
   },
   "source": [
    "### optional"
   ]
  },
  {
   "cell_type": "code",
   "execution_count": 31,
   "id": "82957ab6-622a-4e14-8fff-ff13089d9785",
   "metadata": {},
   "outputs": [
    {
     "name": "stdout",
     "output_type": "stream",
     "text": [
      "[1, 1, 2, 3, 5, 8]\n"
     ]
    }
   ],
   "source": [
    "def quicksort(list):\n",
    "    left=[]\n",
    "    eq=[]\n",
    "    right=[]\n",
    "    \n",
    "    if len(list)> 1:\n",
    "        \n",
    "        povit=list[-1]\n",
    "        for i in range (len(list)):\n",
    "            if list[i]<povit:\n",
    "                left.append(list[i])\n",
    "            if list[i]>povit:\n",
    "                right.append(list[i])\n",
    "            if list[i]==povit:\n",
    "                eq.append(list[i])\n",
    "        return quicksort(left) + eq + quicksort(right)\n",
    "    \n",
    "    else:\n",
    "        return list\n",
    "\n",
    "print(quicksort([2,1,5,8,1,3]))"
   ]
  },
  {
   "cell_type": "markdown",
   "id": "84d62c63-55fc-4e94-a207-c1404eaf3e4e",
   "metadata": {
    "jp-MarkdownHeadingCollapsed": true
   },
   "source": [
    "# Help"
   ]
  },
  {
   "cell_type": "markdown",
   "id": "473fa30e-a5ce-4ea5-9796-0447672c1ee8",
   "metadata": {},
   "source": [
    "``len()`` - Gibt die Anzahl der Elemente in der Liste zurück."
   ]
  },
  {
   "cell_type": "markdown",
   "id": "696d79d4-8c97-4f48-9f33-2c40c6923075",
   "metadata": {},
   "source": [
    "``append()`` - \n",
    "Fügt ein Element am Ende der Liste hinzu."
   ]
  },
  {
   "cell_type": "markdown",
   "id": "c97b688f-5397-45c8-9096-11d7c3f4585f",
   "metadata": {},
   "source": [
    "``insert()`` - \n",
    "Fügt ein Element an einer bestimmten Position in der Liste ein."
   ]
  },
  {
   "cell_type": "markdown",
   "id": "0cf0c699-6e66-4739-9bba-16be10533474",
   "metadata": {},
   "source": [
    "``pop()`` - \n",
    "Entfernt und gibt das Element an einer bestimmten Position zurück. Ohne Argument wird das letzte Element entfernt."
   ]
  },
  {
   "cell_type": "markdown",
   "id": "7693df81-299a-4382-b85b-db934a761d9a",
   "metadata": {},
   "source": [
    "``remove()`` - \n",
    "Entfernt das erste Vorkommen eines bestimmten Werts."
   ]
  },
  {
   "cell_type": "markdown",
   "id": "d31f6af7-d89f-4ca1-95e3-12bd644191cc",
   "metadata": {},
   "source": [
    "``index()`` - \n",
    "Gibt den Index des ersten Vorkommens eines bestimmten Werts zurück."
   ]
  },
  {
   "cell_type": "markdown",
   "id": "c977ddc9-5983-462e-aa41-70bbc11e50e3",
   "metadata": {},
   "source": [
    "``count()`` - \n",
    "Gibt die Anzahl der Vorkommen eines bestimmten Werts zurück."
   ]
  },
  {
   "cell_type": "markdown",
   "id": "6370b1a3-b79a-4ea4-b08a-0fd3a2649fce",
   "metadata": {},
   "source": [
    "``sort()`` - \n",
    "Sortiert die Liste in aufsteigender Reihenfolge. Ändert die Liste selbst."
   ]
  },
  {
   "cell_type": "markdown",
   "id": "78281556-7d64-406b-99e5-66276d6f4ae8",
   "metadata": {},
   "source": [
    "``sorted()`` - \n",
    "Erzeugt eine neue sortierte Liste, ohne die Originalliste zu ändern."
   ]
  },
  {
   "cell_type": "markdown",
   "id": "c7c1631a-75b4-45b6-8a45-54d5672138e2",
   "metadata": {},
   "source": [
    "``reverse()`` - Kehrt die Reihenfolge der Elemente in der Liste um."
   ]
  },
  {
   "cell_type": "markdown",
   "id": "8bfe83b5-2dc1-4159-be47-254f933f6812",
   "metadata": {},
   "source": [
    "``extend()`` - \n",
    "Erweitert die Liste durch Hinzufügen von Elementen aus einer anderen Liste."
   ]
  },
  {
   "cell_type": "markdown",
   "id": "1d9a9ec3-1939-4d78-9272-3e50eb4fe6c5",
   "metadata": {},
   "source": [
    "``clear()`` - \n",
    "Entfernt alle Elemente aus der Liste."
   ]
  }
 ],
 "metadata": {
  "kernelspec": {
   "display_name": "Python 3 (ipykernel)",
   "language": "python",
   "name": "python3"
  },
  "language_info": {
   "codemirror_mode": {
    "name": "ipython",
    "version": 3
   },
   "file_extension": ".py",
   "mimetype": "text/x-python",
   "name": "python",
   "nbconvert_exporter": "python",
   "pygments_lexer": "ipython3",
   "version": "3.12.3"
  }
 },
 "nbformat": 4,
 "nbformat_minor": 5
}
