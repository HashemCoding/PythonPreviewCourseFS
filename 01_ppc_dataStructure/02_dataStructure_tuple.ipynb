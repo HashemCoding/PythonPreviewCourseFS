{
 "cells": [
  {
   "cell_type": "markdown",
   "id": "81226b1a-bd41-4834-adb1-18019f859015",
   "metadata": {
    "jp-MarkdownHeadingCollapsed": true
   },
   "source": [
    "# Tulpe"
   ]
  },
  {
   "cell_type": "markdown",
   "id": "58a8a82e-4ab8-469f-8259-802c5c8bd2e0",
   "metadata": {
    "jp-MarkdownHeadingCollapsed": true
   },
   "source": [
    "## create Tuple"
   ]
  },
  {
   "cell_type": "code",
   "execution_count": 55,
   "id": "4b11a997-1f7e-4217-b20e-d48deb5394a2",
   "metadata": {},
   "outputs": [
    {
     "name": "stdout",
     "output_type": "stream",
     "text": [
      "<class 'tuple'> <class 'tuple'>\n"
     ]
    }
   ],
   "source": [
    "by_constructor = tuple()\n",
    "by_shorthand = ()\n",
    "print(type(by_constructor), type(by_shorthand))"
   ]
  },
  {
   "cell_type": "code",
   "execution_count": null,
   "id": "4a72437b-33af-42f2-8305-af95d9579995",
   "metadata": {},
   "outputs": [],
   "source": [
    "my_tuple = (1, 2, 3)"
   ]
  },
  {
   "cell_type": "code",
   "execution_count": 2,
   "id": "a141326b-c5f0-4b37-9f62-f588c09b199c",
   "metadata": {},
   "outputs": [
    {
     "name": "stdout",
     "output_type": "stream",
     "text": [
      "<class 'int'>\n"
     ]
    }
   ],
   "source": [
    "single_element_tuple = (42)\n",
    "print(type(single_element_tuple))"
   ]
  },
  {
   "cell_type": "markdown",
   "id": "9c2e4a7b-3b0d-44fe-94a3-19680501af23",
   "metadata": {
    "jp-MarkdownHeadingCollapsed": true
   },
   "source": [
    "## elements"
   ]
  },
  {
   "cell_type": "code",
   "execution_count": null,
   "id": "c76dec2d-ee0e-40dd-9f17-e66991b67567",
   "metadata": {},
   "outputs": [],
   "source": [
    "# Zweite element in eine Variabele speichern\n",
    "second_element = my_tuple[1]  # 2"
   ]
  },
  {
   "cell_type": "code",
   "execution_count": 61,
   "id": "cacabb06-8b07-4151-9bbe-1c9d9025629b",
   "metadata": {},
   "outputs": [],
   "source": [
    "# Versuch, die Werte zu ändern, würde zu einem Fehler führen:\n",
    "my_tuple[0] = 4"
   ]
  },
  {
   "cell_type": "markdown",
   "id": "66e2dea2-1f63-48a3-8086-224782801ec8",
   "metadata": {
    "jp-MarkdownHeadingCollapsed": true
   },
   "source": [
    "## nested"
   ]
  },
  {
   "cell_type": "code",
   "execution_count": null,
   "id": "1e206c8a-ef88-4d2e-86db-97df907822d8",
   "metadata": {},
   "outputs": [],
   "source": [
    "nested_tuple = ((1, 2), ('apple', 'orange'))\n",
    "# print(?)"
   ]
  },
  {
   "cell_type": "markdown",
   "id": "3c906574-5795-4625-9305-2517fec7f867",
   "metadata": {
    "jp-MarkdownHeadingCollapsed": true
   },
   "source": [
    "# Help"
   ]
  },
  {
   "cell_type": "markdown",
   "id": "688153f6-a656-45e9-afd5-06d78d2bbcb7",
   "metadata": {},
   "source": [
    "``len(tuple):``\r\n",
    "Gibt die Anzahl der Elemente im Tupel zurück."
   ]
  },
  {
   "cell_type": "markdown",
   "id": "deb771d0-6dd2-40b7-b3a7-c641fe1ed2a1",
   "metadata": {},
   "source": [
    "\n",
    "``count(value):``\r\n",
    "Gibt die Anzahl der Vorkommen eines bestimmten Werts im Tupel zurkc "
   ]
  },
  {
   "cell_type": "markdown",
   "id": "d17a31ce-014f-4707-94f2-efa864d84070",
   "metadata": {},
   "source": [
    "\r\n",
    "``index(value):``\r\n",
    "Gibt den Index des ersten Vorkommens eines bestimmten Werts im Tupel zurück."
   ]
  },
  {
   "cell_type": "markdown",
   "id": "0426d96a-08e5-4d98-965e-0352676081e1",
   "metadata": {},
   "source": [
    "# other"
   ]
  },
  {
   "cell_type": "markdown",
   "id": "a9a19283-92c5-4d90-ad57-2c19f83d5cb8",
   "metadata": {},
   "source": [
    "## Json"
   ]
  },
  {
   "cell_type": "code",
   "execution_count": 34,
   "id": "8b508d00-844c-4df8-93a9-c6506d7a8654",
   "metadata": {},
   "outputs": [
    {
     "name": "stdout",
     "output_type": "stream",
     "text": [
      "[{\"Fruit\": \"Orange\", \"Icon\": \"\\ud83c\\udf4a\", \"German\": \"Orange\"}, {\"Fruit\": \"Pineapple\", \"Icon\": \"\\ud83c\\udf4d\", \"German\": \"Ananas\"}, {\"Fruit\": \"Apple\", \"Icon\": \"\\ud83c\\udf4e\", \"German\": \"Apfel\"}]\n"
     ]
    }
   ],
   "source": [
    "import json\n",
    "json_fruits = json.dumps(fruits)\n",
    "print(json_fruits)"
   ]
  },
  {
   "cell_type": "markdown",
   "id": "cb7cec00-de8a-4de2-9b2e-d4db4c8a6a75",
   "metadata": {},
   "source": [
    "### add to file"
   ]
  },
  {
   "cell_type": "code",
   "execution_count": 36,
   "id": "3cede5db-1ab6-4138-af9c-90863cf976b3",
   "metadata": {},
   "outputs": [],
   "source": [
    "with open('myFile.json', 'w') as file:\n",
    "    json.dump(fruits, file, indent=4)"
   ]
  },
  {
   "cell_type": "markdown",
   "id": "870a2fe0-2e2e-485b-8105-c9a485ab6d22",
   "metadata": {},
   "source": [
    "### read from file"
   ]
  },
  {
   "cell_type": "code",
   "execution_count": 41,
   "id": "b3ffa3de-40d0-47d3-9e0c-5d3164391cee",
   "metadata": {},
   "outputs": [
    {
     "name": "stdout",
     "output_type": "stream",
     "text": [
      "[{'Fruit': 'Orange', 'Icon': '🍊', 'German': 'Orange'}, {'Fruit': 'Pineapple', 'Icon': '🍍', 'German': 'Ananas'}, {'Fruit': 'Apple', 'Icon': '🍎', 'German': 'Apfel'}]\n"
     ]
    }
   ],
   "source": [
    "with open('myFile.json', 'r') as file:               # more verbose but more readable and safe (file is closed) \n",
    "    read_fruits = json.load(file)\n",
    "print(read_fruits)"
   ]
  }
 ],
 "metadata": {
  "kernelspec": {
   "display_name": "Python 3 (ipykernel)",
   "language": "python",
   "name": "python3"
  },
  "language_info": {
   "codemirror_mode": {
    "name": "ipython",
    "version": 3
   },
   "file_extension": ".py",
   "mimetype": "text/x-python",
   "name": "python",
   "nbconvert_exporter": "python",
   "pygments_lexer": "ipython3",
   "version": "3.11.7"
  }
 },
 "nbformat": 4,
 "nbformat_minor": 5
}
