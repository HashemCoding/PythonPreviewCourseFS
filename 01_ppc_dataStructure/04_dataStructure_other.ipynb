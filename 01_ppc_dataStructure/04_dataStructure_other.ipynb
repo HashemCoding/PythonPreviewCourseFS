{
 "cells": [
  {
   "cell_type": "markdown",
   "id": "66887858-6f19-4498-860f-17166cad2773",
   "metadata": {
    "jp-MarkdownHeadingCollapsed": true
   },
   "source": [
    "# Other"
   ]
  },
  {
   "cell_type": "markdown",
   "id": "1c5acd76-ee20-44bc-b95b-0d40b87b9c81",
   "metadata": {
    "jp-MarkdownHeadingCollapsed": true
   },
   "source": [
    "## dictionary of list"
   ]
  },
  {
   "cell_type": "code",
   "execution_count": null,
   "id": "bc101f86-a413-428e-98be-20e89fe82764",
   "metadata": {},
   "outputs": [],
   "source": [
    "data = {\n",
    "    'x': [1, 2, 3, 4, 5],\n",
    "    'x²': [1, 4, 9, 16, 25]\n",
    "}\n",
    "print (data)"
   ]
  },
  {
   "cell_type": "markdown",
   "id": "de33200e-09b5-4ad8-b9c0-7f04d3e590bd",
   "metadata": {
    "jp-MarkdownHeadingCollapsed": true
   },
   "source": [
    "## list of dictionary"
   ]
  },
  {
   "cell_type": "code",
   "execution_count": null,
   "id": "1e0208ed-afb1-438d-8f6e-a046433d1fe6",
   "metadata": {},
   "outputs": [],
   "source": [
    "fruits = [\n",
    "    {'Fruit': 'Orange', 'Icon': '🍊', 'German': 'Orange'},\n",
    "    {'Fruit': 'Pineapple', 'Icon': '🍍', 'German': 'Ananas'},\n",
    "    {'Fruit': 'Apple', 'Icon':'🍎', 'German': 'Apfel'}\n",
    "]\n",
    "for fruit in fruits:\n",
    "    print(fruit)"
   ]
  },
  {
   "cell_type": "markdown",
   "id": "0682c13a-2216-455b-ad7b-68d1be1f6b8c",
   "metadata": {
    "jp-MarkdownHeadingCollapsed": true
   },
   "source": [
    "## JSON"
   ]
  },
  {
   "cell_type": "code",
   "execution_count": null,
   "id": "1b03f6e1-9d21-4b4e-ab52-40741164ba91",
   "metadata": {},
   "outputs": [],
   "source": [
    "import json\n",
    "json_fruits = json.dumps(fruits)\n",
    "print(json_fruits)"
   ]
  },
  {
   "cell_type": "markdown",
   "id": "8fa3dc66-67a6-41f0-86ca-45c76cc4abc8",
   "metadata": {
    "jp-MarkdownHeadingCollapsed": true
   },
   "source": [
    "### write in file"
   ]
  },
  {
   "cell_type": "code",
   "execution_count": null,
   "id": "78fc2d54-4f45-4024-bff3-704a05a3ef97",
   "metadata": {},
   "outputs": [],
   "source": [
    "with open('myFile.json', 'w') as file:\n",
    "    json.dump(fruits, file, indent=4)"
   ]
  },
  {
   "cell_type": "markdown",
   "id": "33d39c7d-743e-4aab-a88b-9d328453af47",
   "metadata": {
    "jp-MarkdownHeadingCollapsed": true
   },
   "source": [
    "### read the file"
   ]
  },
  {
   "cell_type": "code",
   "execution_count": null,
   "id": "03717635-3475-4338-9f1a-b7f494fce75d",
   "metadata": {},
   "outputs": [],
   "source": [
    "with open('myFile.json', 'r') as file:               # more verbose but more readable and safe (file is closed) \n",
    "    read_fruits = json.load(file)\n",
    "print(read_fruits)"
   ]
  },
  {
   "cell_type": "markdown",
   "id": "3722534f-4f4d-40ca-8242-4eb99ecd205d",
   "metadata": {
    "jp-MarkdownHeadingCollapsed": true
   },
   "source": [
    "## Word counter"
   ]
  },
  {
   "cell_type": "code",
   "execution_count": null,
   "id": "e8476ae1-2037-4f18-90f6-13f69367cfc2",
   "metadata": {},
   "outputs": [],
   "source": [
    "def word_count(str):\n",
    "    counts = dict()\n",
    "    \n",
    "    words = str.split()\n",
    "    \n",
    "    for word in words:\n",
    "        if word in counts:\n",
    "            counts[word] += 1\n",
    "        else:\n",
    "            counts[word] = 1\n",
    "    return counts\n",
    "\n",
    "print(word_count('Hashem Hashem Hashem Al Al Ghanem 22 # Hashem Hashem Hashem'))"
   ]
  }
 ],
 "metadata": {
  "kernelspec": {
   "display_name": "Python 3 (ipykernel)",
   "language": "python",
   "name": "python3"
  },
  "language_info": {
   "codemirror_mode": {
    "name": "ipython",
    "version": 3
   },
   "file_extension": ".py",
   "mimetype": "text/x-python",
   "name": "python",
   "nbconvert_exporter": "python",
   "pygments_lexer": "ipython3",
   "version": "3.11.7"
  }
 },
 "nbformat": 4,
 "nbformat_minor": 5
}
