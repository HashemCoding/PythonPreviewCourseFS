{
 "cells": [
  {
   "cell_type": "markdown",
   "id": "87c17add",
   "metadata": {},
   "source": [
    "# Pydantic"
   ]
  },
  {
   "cell_type": "markdown",
   "id": "29e87533",
   "metadata": {},
   "source": [
    "Pydantic is the most widely used data validation library for Python."
   ]
  },
  {
   "cell_type": "markdown",
   "id": "7aacc0f7",
   "metadata": {},
   "source": [
    "DE:\n",
    "\n",
    "Pydantic ist eine Bibliothek, die das Definieren von Datenmodellen und die Validierung von Daten in Python vereinfacht."
   ]
  },
  {
   "cell_type": "markdown",
   "id": "1f7e08c5",
   "metadata": {},
   "source": [
    "## Problem"
   ]
  },
  {
   "cell_type": "code",
   "execution_count": 1,
   "id": "3fa8b839",
   "metadata": {},
   "outputs": [
    {
     "name": "stdout",
     "output_type": "stream",
     "text": [
      "10\n",
      "Hello\n"
     ]
    }
   ],
   "source": [
    "X = 10\n",
    "print(X)\n",
    "x = \"Hello\"\n",
    "print(x)"
   ]
  },
  {
   "cell_type": "code",
   "execution_count": 2,
   "id": "3a278f54",
   "metadata": {},
   "outputs": [],
   "source": [
    "class Person:\n",
    "    def __init__(self, name, age):\n",
    "        self.name = name\n",
    "        self.age = age"
   ]
  },
  {
   "cell_type": "code",
   "execution_count": 3,
   "id": "ffc3b323",
   "metadata": {},
   "outputs": [],
   "source": [
    "Niklas = Person(\"Niklas\", 25)       # Correct\n",
    "Hashem = Person(\"Hashem\", \"30\")     # Mistake"
   ]
  },
  {
   "cell_type": "markdown",
   "id": "a959a877",
   "metadata": {},
   "source": [
    "## Solution"
   ]
  },
  {
   "cell_type": "markdown",
   "id": "bc58a4e7",
   "metadata": {},
   "source": [
    "### init"
   ]
  },
  {
   "cell_type": "code",
   "execution_count": 43,
   "id": "2ce49cc0",
   "metadata": {},
   "outputs": [],
   "source": [
    "from pydantic import BaseModel\n",
    "from pydantic import field_validator\n",
    "from typing import Optional"
   ]
  },
  {
   "cell_type": "markdown",
   "id": "3c5e9d72",
   "metadata": {},
   "source": [
    "### BaseModel"
   ]
  },
  {
   "cell_type": "code",
   "execution_count": 11,
   "id": "b38b86c4",
   "metadata": {},
   "outputs": [],
   "source": [
    "from pydantic import BaseModel\n",
    "\n",
    "class Person(BaseModel):\n",
    "    name: str\n",
    "    age: int"
   ]
  },
  {
   "cell_type": "code",
   "execution_count": 15,
   "id": "3e6c6879",
   "metadata": {},
   "outputs": [],
   "source": [
    "Niklas = Person(name=\"Niklas\", age=25)\n",
    "Hashem = Person(name=\"Hashem\", age=\"30\")"
   ]
  },
  {
   "cell_type": "markdown",
   "id": "0689c8a2",
   "metadata": {},
   "source": [
    "### Validator"
   ]
  },
  {
   "cell_type": "code",
   "execution_count": null,
   "id": "a193413f",
   "metadata": {},
   "outputs": [],
   "source": [
    "from pydantic import field_validator\n",
    "\n",
    "class Person(BaseModel):\n",
    "    name: str\n",
    "    age: int\n",
    "\n",
    "    @field_validator(\"age\")\n",
    "    def check_age(cls, v):\n",
    "        if v < 0:\n",
    "            raise ValueError(f\"Age must be positive. Your age is: {v}\")\n",
    "        return v"
   ]
  },
  {
   "cell_type": "code",
   "execution_count": null,
   "id": "feb60b24",
   "metadata": {},
   "outputs": [],
   "source": [
    "Niklas = Person(name=\"Niklas\", age=25)\n",
    "Hashem = Person(name=\"Hashem\", age=\"30\")"
   ]
  },
  {
   "cell_type": "markdown",
   "id": "d08ac56b",
   "metadata": {},
   "source": [
    "### Optional"
   ]
  },
  {
   "cell_type": "code",
   "execution_count": 20,
   "id": "146d021b",
   "metadata": {},
   "outputs": [],
   "source": [
    "from typing import Optional\n",
    "\n",
    "class Person(BaseModel):\n",
    "    name: str\n",
    "    age: int\n",
    "    nickname: Optional[str] = None"
   ]
  },
  {
   "cell_type": "code",
   "execution_count": 17,
   "id": "850a96fe",
   "metadata": {},
   "outputs": [],
   "source": [
    "Niklas = Person(name=\"Niklas\", age=25, nickname=\"Niki\")\n",
    "Hashem = Person(name=\"Hashem\", age=30, nickname=None)"
   ]
  },
  {
   "cell_type": "markdown",
   "id": "8dc38d9e",
   "metadata": {},
   "source": [
    "### Nesting models"
   ]
  },
  {
   "cell_type": "code",
   "execution_count": 39,
   "id": "0420b5b5",
   "metadata": {},
   "outputs": [],
   "source": [
    "class Order(BaseModel):\n",
    "    name: str\n",
    "    age: int\n",
    "    friends: Optional[list[Person]] = None\n",
    "    nickname: Optional[str] = None"
   ]
  },
  {
   "cell_type": "code",
   "execution_count": 42,
   "id": "23765454",
   "metadata": {},
   "outputs": [],
   "source": [
    "Niklas = Person(name=\"Niklas\", age=25, nickname=\"Niki\")\n",
    "Hashem = Person(name=\"Hashem\", age=30, friends=[Niklas], nickname=None)"
   ]
  },
  {
   "cell_type": "markdown",
   "id": "edbafd6b",
   "metadata": {},
   "source": [
    "### JSON Schema"
   ]
  },
  {
   "cell_type": "code",
   "execution_count": 41,
   "id": "bebaa4b9",
   "metadata": {},
   "outputs": [
    {
     "data": {
      "text/plain": [
       "{'properties': {'name': {'title': 'Name', 'type': 'string'},\n",
       "  'age': {'title': 'Age', 'type': 'integer'},\n",
       "  'nickname': {'anyOf': [{'type': 'string'}, {'type': 'null'}],\n",
       "   'default': None,\n",
       "   'title': 'Nickname'}},\n",
       " 'required': ['name', 'age'],\n",
       " 'title': 'Person',\n",
       " 'type': 'object'}"
      ]
     },
     "execution_count": 41,
     "metadata": {},
     "output_type": "execute_result"
    }
   ],
   "source": [
    "Hashem.model_json_schema()"
   ]
  },
  {
   "cell_type": "markdown",
   "id": "52ee86db",
   "metadata": {},
   "source": [
    "## Exercise"
   ]
  },
  {
   "cell_type": "markdown",
   "id": "a254ffbe",
   "metadata": {},
   "source": [
    "``DE:``\n",
    "\n",
    "Erstelle ein Pydantic-Datenmodell für eine einfache **Buchverwaltungsanwendung**. \n",
    "\n",
    "Das Datenmodell sollte die Informationen für ein Buch speichern können, einschließlich: \n",
    "- Titel, \n",
    "- Autor,\n",
    "- Genre,\n",
    "- Erscheinungsjahr. \n",
    "\n",
    "Zusätzlich sollte das Modell Validierungsregeln enthalten, um sicherzustellen, dass der Titel nicht leer ist und das Erscheinungsjahr eine plausible Zahl darstellt (z. B. nicht in der Zukunft).\n",
    "\n",
    "Füge dem Datenmodell optionale Felder hinzu, wie z. B. eine Beschreibung des Buches.\n",
    "\n",
    "Erstelle dabei einige gültige und ungültige Buchobjekte und überprüfe, ob die Validierung ordnungsgemäß funktioniert."
   ]
  },
  {
   "cell_type": "code",
   "execution_count": null,
   "id": "c7a41d1d",
   "metadata": {},
   "outputs": [],
   "source": [
    "# Code here"
   ]
  }
 ],
 "metadata": {
  "kernelspec": {
   "display_name": "Python 3 (ipykernel)",
   "language": "python",
   "name": "python3"
  },
  "language_info": {
   "codemirror_mode": {
    "name": "ipython",
    "version": 3
   },
   "file_extension": ".py",
   "mimetype": "text/x-python",
   "name": "python",
   "nbconvert_exporter": "python",
   "pygments_lexer": "ipython3",
   "version": "3.11.7"
  }
 },
 "nbformat": 4,
 "nbformat_minor": 5
}
