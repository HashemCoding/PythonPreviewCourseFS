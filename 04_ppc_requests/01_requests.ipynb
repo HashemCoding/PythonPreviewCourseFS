{
 "cells": [
  {
   "cell_type": "markdown",
   "id": "c37f5b9b",
   "metadata": {},
   "source": [
    "# Install packeges "
   ]
  },
  {
   "cell_type": "markdown",
   "id": "c0bf30c4",
   "metadata": {},
   "source": [
    "``pip install requests``"
   ]
  },
  {
   "cell_type": "markdown",
   "id": "3e3db912",
   "metadata": {},
   "source": [
    "``pip install python-certifi-win32``"
   ]
  },
  {
   "cell_type": "markdown",
   "id": "e0ec735c",
   "metadata": {},
   "source": [
    "# REST API with ``requests``"
   ]
  },
  {
   "cell_type": "markdown",
   "id": "f9f35dd0",
   "metadata": {},
   "source": [
    "### HTTP-Methoden \n",
    "- GET\n",
    "- POST\n",
    "- PUT\n",
    "- DELETE\n",
    "\n",
    "### Statuscodes\n",
    "#### 2xx - Succes \n",
    "- 200 : OK\n",
    "- 201 : Created\n",
    "#### 4xx - Client error\n",
    "- 400 : Bad Request\n",
    "- 401 : Unauthorized\n",
    "- 403 : Forbidden\n",
    "- 404 : Not Found\n",
    "#### 5xx - Server error\n",
    "- 500 : Internal Server Error\n",
    "- 502 : Bad Gateway\n"
   ]
  },
  {
   "cell_type": "markdown",
   "id": "81b78e1e",
   "metadata": {},
   "source": [
    "## quick example"
   ]
  },
  {
   "cell_type": "markdown",
   "id": "74bae67a",
   "metadata": {},
   "source": [
    "### Ping"
   ]
  },
  {
   "cell_type": "code",
   "execution_count": 9,
   "id": "adcca965",
   "metadata": {},
   "outputs": [
    {
     "name": "stdout",
     "output_type": "stream",
     "text": [
      "BASF 200 OK 0.047835\n",
      "LDAP 200 OK 0.088234\n"
     ]
    }
   ],
   "source": [
    "import requests\n",
    "\n",
    "# Disable SSL warnings\n",
    "import urllib3\n",
    "urllib3.disable_warnings()\n",
    "\n",
    "urls = {\n",
    "    'BASF': 'https://www.basf.com',                                                   # Our BASF homepage\n",
    "    'LDAP': 'https://app.roqs.basf.net/ldap/api/v2'                                   # A BASF LDAP API\n",
    "}\n",
    "response_text = {}\n",
    "for nickname, url in urls.items():\n",
    "    print (nickname, end = '')\n",
    "    response = requests.get(url,verify=False)\n",
    "    print ('', response.status_code, response.reason, response.elapsed.total_seconds())\n",
    "    #print(response.text)\n",
    "    if response.ok:\n",
    "        response_text[nickname] = response.text"
   ]
  },
  {
   "cell_type": "markdown",
   "id": "6fdbb623",
   "metadata": {},
   "source": [
    "### get something practical"
   ]
  },
  {
   "cell_type": "code",
   "execution_count": 10,
   "id": "dbae1d95",
   "metadata": {},
   "outputs": [
    {
     "name": "stdout",
     "output_type": "stream",
     "text": [
      "windows userid: AlGhanH\n"
     ]
    },
    {
     "data": {
      "text/plain": [
       "[{'dn': 'cn=AlGhanH,ou=BASF IT SERVICES GMBH,ou=EMPLOYEES,o=AUTH',\n",
       "  'building': 'Lu-Pfalzgrafenstrasse 1',\n",
       "  'company': 'BASF Digital Solutions GmbH',\n",
       "  'company_id': '0074',\n",
       "  'cost_center': '3R613101',\n",
       "  'country': 'Germany',\n",
       "  'country_code': 'DE',\n",
       "  'first_name': 'Hashem',\n",
       "  'full_name': 'Hashem Al Ghanem',\n",
       "  'gender': 'male',\n",
       "  'id': '1002115746',\n",
       "  'last_name': 'Al Ghanem',\n",
       "  'login_disabled': 'FALSE',\n",
       "  'mail': 'hashem.al-ghanem@basf.com',\n",
       "  'org_code': 'GD/HP',\n",
       "  'person_id': '01006843',\n",
       "  'postal_code': '67061',\n",
       "  'region': 'EU',\n",
       "  'room': '032W20',\n",
       "  'site': 'Ludwigshafen am Rhein',\n",
       "  'state': 'Rheinland-Pfalz',\n",
       "  'street': 'Pfalzgrafenstrasse 1',\n",
       "  'supervisor_id': '1000513296',\n",
       "  'username': 'AlGhanH',\n",
       "  'type': 'employee',\n",
       "  'status': 'active',\n",
       "  'image': 'https://app.roqs.basf.net/user_picture_api/image/AlGhanH'}]"
      ]
     },
     "metadata": {},
     "output_type": "display_data"
    },
    {
     "data": {
      "text/html": [
       "<div>\n",
       "<style scoped>\n",
       "    .dataframe tbody tr th:only-of-type {\n",
       "        vertical-align: middle;\n",
       "    }\n",
       "\n",
       "    .dataframe tbody tr th {\n",
       "        vertical-align: top;\n",
       "    }\n",
       "\n",
       "    .dataframe thead th {\n",
       "        text-align: right;\n",
       "    }\n",
       "</style>\n",
       "<table border=\"1\" class=\"dataframe\">\n",
       "  <thead>\n",
       "    <tr style=\"text-align: right;\">\n",
       "      <th></th>\n",
       "      <th>dn</th>\n",
       "      <th>building</th>\n",
       "      <th>company</th>\n",
       "      <th>company_id</th>\n",
       "      <th>cost_center</th>\n",
       "      <th>country</th>\n",
       "      <th>country_code</th>\n",
       "      <th>first_name</th>\n",
       "      <th>full_name</th>\n",
       "      <th>gender</th>\n",
       "      <th>...</th>\n",
       "      <th>region</th>\n",
       "      <th>room</th>\n",
       "      <th>site</th>\n",
       "      <th>state</th>\n",
       "      <th>street</th>\n",
       "      <th>supervisor_id</th>\n",
       "      <th>username</th>\n",
       "      <th>type</th>\n",
       "      <th>status</th>\n",
       "      <th>image</th>\n",
       "    </tr>\n",
       "  </thead>\n",
       "  <tbody>\n",
       "    <tr>\n",
       "      <th>0</th>\n",
       "      <td>cn=AlGhanH,ou=BASF IT SERVICES GMBH,ou=EMPLOYE...</td>\n",
       "      <td>Lu-Pfalzgrafenstrasse 1</td>\n",
       "      <td>BASF Digital Solutions GmbH</td>\n",
       "      <td>0074</td>\n",
       "      <td>3R613101</td>\n",
       "      <td>Germany</td>\n",
       "      <td>DE</td>\n",
       "      <td>Hashem</td>\n",
       "      <td>Hashem Al Ghanem</td>\n",
       "      <td>male</td>\n",
       "      <td>...</td>\n",
       "      <td>EU</td>\n",
       "      <td>032W20</td>\n",
       "      <td>Ludwigshafen am Rhein</td>\n",
       "      <td>Rheinland-Pfalz</td>\n",
       "      <td>Pfalzgrafenstrasse 1</td>\n",
       "      <td>1000513296</td>\n",
       "      <td>AlGhanH</td>\n",
       "      <td>employee</td>\n",
       "      <td>active</td>\n",
       "      <td>https://app.roqs.basf.net/user_picture_api/ima...</td>\n",
       "    </tr>\n",
       "  </tbody>\n",
       "</table>\n",
       "<p>1 rows × 27 columns</p>\n",
       "</div>"
      ],
      "text/plain": [
       "                                                  dn                 building  \\\n",
       "0  cn=AlGhanH,ou=BASF IT SERVICES GMBH,ou=EMPLOYE...  Lu-Pfalzgrafenstrasse 1   \n",
       "\n",
       "                       company company_id cost_center  country country_code  \\\n",
       "0  BASF Digital Solutions GmbH       0074    3R613101  Germany           DE   \n",
       "\n",
       "  first_name         full_name gender  ... region    room  \\\n",
       "0     Hashem  Hashem Al Ghanem   male  ...     EU  032W20   \n",
       "\n",
       "                    site            state                street supervisor_id  \\\n",
       "0  Ludwigshafen am Rhein  Rheinland-Pfalz  Pfalzgrafenstrasse 1    1000513296   \n",
       "\n",
       "  username      type  status  \\\n",
       "0  AlGhanH  employee  active   \n",
       "\n",
       "                                               image  \n",
       "0  https://app.roqs.basf.net/user_picture_api/ima...  \n",
       "\n",
       "[1 rows x 27 columns]"
      ]
     },
     "execution_count": 10,
     "metadata": {},
     "output_type": "execute_result"
    }
   ],
   "source": [
    "import os\n",
    "import pandas as pd\n",
    "\n",
    "userid = os.environ['USERNAME']\n",
    "print('windows userid:', userid)\n",
    "\n",
    "base_url = urls['LDAP']\n",
    "end_point = 'users'\n",
    "query = 'username=' + userid\n",
    "\n",
    "response = requests.get(f'{base_url}/{end_point}?{query}', verify=False)\n",
    "if not response.ok:\n",
    "    print (\"Respose Code:\",response.status_code,\"\\n Response Reason:\", response.reason)\n",
    "    print ('request took %.3f seconds' % response.elapsed.total_seconds())\n",
    "display(response.json())\n",
    "pd.DataFrame(response.json())"
   ]
  },
  {
   "cell_type": "markdown",
   "id": "7a201a7c",
   "metadata": {},
   "source": [
    "## Anime Example"
   ]
  },
  {
   "cell_type": "markdown",
   "id": "c006045c",
   "metadata": {},
   "source": [
    "- [Jikan API](https://docs.api.jikan.moe/#tag/anime/operation/getAnimeSearch)\n",
    "\n",
    "getAnimeSearch\n",
    "\n",
    "| Query parameters \t| type    \t| Description                                                                                              \t|\n",
    "|------------------\t|---------\t|----------------------------------------------------------------------------------------------------------\t|\n",
    "| page             \t| integer \t| Page number.                                                                                          \t|\n",
    "| limit            \t| integer \t| limit of the animes in the response.                                                                     \t|\n",
    "| type             \t| string  \t| Type of the animes in the response.<br>\"tv\" \"movie\" \"ova\" \"special\" \"ona\" \"music\" \"cm\" \"pv\" \"tv_special\" \t|\n",
    "| rating           \t| string  \t| age rating.<br>\"g\" \"pg\" \"pg13\" \"r17\" \"r\" \"rx\"                                                            \t|\n",
    "| order_by         \t| string  \t| Order of the animes in the response.<br>\"desc\" \"asc\"                                                     \t|\n"
   ]
  },
  {
   "cell_type": "markdown",
   "id": "27cc0970",
   "metadata": {},
   "source": [
    "### Get data"
   ]
  },
  {
   "cell_type": "code",
   "execution_count": 11,
   "id": "c856219e",
   "metadata": {},
   "outputs": [
    {
     "name": "stdout",
     "output_type": "stream",
     "text": [
      "https://api.jikan.moe/v4/anime?&limit=5\n"
     ]
    }
   ],
   "source": [
    "import json\n",
    "import requests\n",
    "\n",
    "def get_anime_list(page=None, limit=None, type=None, rating=None, order_by=None):\n",
    "    base_url = 'api.jikan.moe/v4/anime'\n",
    "    query = '?'\n",
    "    \n",
    "    if page:\n",
    "        query += f'&page={page}'\n",
    "    if limit:\n",
    "        query += f'&limit={limit}'\n",
    "    if type:\n",
    "        query += f'&type={type}'\n",
    "    if rating:\n",
    "        query += f'&rating={rating}'\n",
    "    if order_by:\n",
    "        query += f'&order_by={order_by}'\n",
    "    \n",
    "    if query == '?':\n",
    "        query = ''\n",
    "\n",
    "    url = f'https://{base_url}{query}'\n",
    "    print(url)\n",
    "    \n",
    "    response = requests.get(url, verify=False)\n",
    "    \n",
    "    if not response.ok:\n",
    "        print (\"Respose Code:\",response.status_code,\"\\n Response Reason:\", response.reason)\n",
    "        print ('request took %.3f seconds' % response.elapsed.total_seconds())\n",
    "\n",
    "\n",
    "    with open('anime.json', 'w') as file:\n",
    "        json.dump(response.json(), file)\n",
    "    \n",
    "    return response.json()\n",
    "\n",
    "# get_anime_list()\n",
    "animes_json = get_anime_list(limit=5)"
   ]
  },
  {
   "cell_type": "markdown",
   "id": "1577cd49",
   "metadata": {},
   "source": [
    "### work with data"
   ]
  },
  {
   "cell_type": "code",
   "execution_count": 14,
   "id": "3a54a784",
   "metadata": {},
   "outputs": [],
   "source": [
    "import markdown\n",
    "\n",
    "anime_count = animes_json['pagination']['items']['count']\n",
    "\n",
    "anime_markdown_list = []\n",
    "\n",
    "anime_list = animes_json['data']\n",
    "for anime_item in anime_list:\n",
    "    # Get the title\n",
    "    anime_title = anime_item['title']\n",
    "    \n",
    "    # Get the image\n",
    "    anime_image = anime_item['images']['jpg']['image_url']\n",
    "    \n",
    "    # Get the episode count\n",
    "    anime_episode_count = anime_item['episodes']\n",
    "    \n",
    "    # Get the genres\n",
    "    anime_genres = anime_item['genres']\n",
    "    anime_genre_list=[]\n",
    "    for genre in anime_genres:\n",
    "        anime_genre_list.append(genre['name'])\n",
    "\n",
    "    # Create the markdown string and append to the list\n",
    "    anime_string = f\"## {anime_title}<br>\\n ![{anime_title}'image']({anime_image})<br>\\n Episodes: {anime_episode_count}<br>\\n Genres: {anime_genre_list}<br><br>\\n\"\n",
    "    anime_markdown_list.append(anime_string)\n",
    "\n",
    "# Create the final markdown string\n",
    "animes_markdown = markdown.markdown(f'# My Anime list\\n Count: {anime_count}<br>\\n'+''.join(anime_markdown_list))\n",
    "\n",
    "# Write to file\n",
    "with open('myAnimeList.md', 'w') as file:\n",
    "    file.write(animes_markdown)"
   ]
  },
  {
   "cell_type": "markdown",
   "id": "e7c01c77",
   "metadata": {},
   "source": [
    "## Dog or Cat"
   ]
  },
  {
   "cell_type": "markdown",
   "id": "34b92a69",
   "metadata": {},
   "source": [
    "### Dog"
   ]
  },
  {
   "cell_type": "markdown",
   "id": "17e319a7",
   "metadata": {},
   "source": [
    "create a markdown file with 10 random images of dogs using qurey parameters.\n",
    "[find more here.](https://documenter.getpostman.com/view/4016432/the-dog-api/RW81vZ4Z#67a5dbff-cf14-4e60-98f6-d8a93d324fba)\n",
    "\n",
    "API url:\n",
    "https://api.thedogapi.com/v1/images/search"
   ]
  },
  {
   "cell_type": "code",
   "execution_count": null,
   "id": "396b9224",
   "metadata": {},
   "outputs": [],
   "source": [
    "# Code here\n"
   ]
  },
  {
   "cell_type": "markdown",
   "id": "6abb39e5",
   "metadata": {},
   "source": [
    "### Cat"
   ]
  },
  {
   "cell_type": "markdown",
   "id": "c65da145",
   "metadata": {},
   "source": [
    "create a markdown file with 10 random images of cats using qurey parameters.\n",
    "[Find more here.](https://developers.thecatapi.com/view-account/ylX4blBYT9FaoVd6OhvR?report=bOoHBz-8t)\n",
    "\n",
    "API url:\n",
    "https://api.thecatapi.com/v1/images/search"
   ]
  },
  {
   "cell_type": "code",
   "execution_count": null,
   "id": "5f98231f",
   "metadata": {},
   "outputs": [],
   "source": [
    "# Code here"
   ]
  }
 ],
 "metadata": {
  "kernelspec": {
   "display_name": "Python 3 (ipykernel)",
   "language": "python",
   "name": "python3"
  },
  "language_info": {
   "codemirror_mode": {
    "name": "ipython",
    "version": 3
   },
   "file_extension": ".py",
   "mimetype": "text/x-python",
   "name": "python",
   "nbconvert_exporter": "python",
   "pygments_lexer": "ipython3",
   "version": "3.12.3"
  }
 },
 "nbformat": 4,
 "nbformat_minor": 5
}
